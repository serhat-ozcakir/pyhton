{
  "nbformat": 4,
  "nbformat_minor": 0,
  "metadata": {
    "colab": {
      "name": "Assignment-008/9 (Letters Count) is due.ipynb",
      "provenance": [],
      "authorship_tag": "ABX9TyMGlVDM++Rp9kAG5QHoTwrt",
      "include_colab_link": true
    },
    "kernelspec": {
      "name": "python3",
      "display_name": "Python 3"
    },
    "language_info": {
      "name": "python"
    }
  },
  "cells": [
    {
      "cell_type": "markdown",
      "metadata": {
        "id": "view-in-github",
        "colab_type": "text"
      },
      "source": [
        "<a href=\"https://colab.research.google.com/github/serhat-ozcakir/pyhton/blob/main/Assignment_008_9_(Letters_Count)_is_due.ipynb\" target=\"_parent\"><img src=\"https://colab.research.google.com/assets/colab-badge.svg\" alt=\"Open In Colab\"/></a>"
      ]
    },
    {
      "cell_type": "code",
      "metadata": {
        "id": "NBH-AKofM9Ka"
      },
      "source": [
        "sentence = str(input(\"enter a sentence : \"))\n",
        "a = dict()\n",
        "for i in sentence:\n",
        "    a.update({i:sentence.count(i)})\n",
        "print(a)"
      ],
      "execution_count": null,
      "outputs": []
    }
  ]
}