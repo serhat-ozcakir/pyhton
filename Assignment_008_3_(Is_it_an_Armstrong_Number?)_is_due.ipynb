{
  "nbformat": 4,
  "nbformat_minor": 0,
  "metadata": {
    "colab": {
      "name": "Assignment-008/3 (Is it an Armstrong Number?) is due.ipynb",
      "provenance": [],
      "authorship_tag": "ABX9TyOd278JP3T21d1OikFIqY1C",
      "include_colab_link": true
    },
    "kernelspec": {
      "name": "python3",
      "display_name": "Python 3"
    },
    "language_info": {
      "name": "python"
    }
  },
  "cells": [
    {
      "cell_type": "markdown",
      "metadata": {
        "id": "view-in-github",
        "colab_type": "text"
      },
      "source": [
        "<a href=\"https://colab.research.google.com/github/serhat-ozcakir/pyhton/blob/main/Assignment_008_3_(Is_it_an_Armstrong_Number%3F)_is_due.ipynb\" target=\"_parent\"><img src=\"https://colab.research.google.com/assets/colab-badge.svg\" alt=\"Open In Colab\"/></a>"
      ]
    },
    {
      "cell_type": "code",
      "metadata": {
        "colab": {
          "base_uri": "https://localhost:8080/"
        },
        "id": "Hi5yYaEvczgE",
        "outputId": "b3e0c195-2e32-4191-b39a-cfccd5566b7d"
      },
      "source": [
        "number = input(\"değer giriniz : \")\n",
        "sum = 0\n",
        "\n",
        "while not number.isdigit():\n",
        "  print(\"this is invalid number.It is an invalid entry. Don't use non-numeric, float, or negative values!\")\n",
        "  break\n",
        "for i in number:\n",
        "  sum += int(i)**len(number)\n",
        "if sum == int(number):\n",
        "  print(\"this is armstrong number\")\n",
        "else:\n",
        "  print(\"this is not armstrong number\")"
      ],
      "execution_count": 2,
      "outputs": [
        {
          "output_type": "stream",
          "text": [
            "değer giriniz : 407\n",
            "this is armstrong number\n"
          ],
          "name": "stdout"
        }
      ]
    }
  ]
}