{
  "nbformat": 4,
  "nbformat_minor": 0,
  "metadata": {
    "colab": {
      "name": "Assignment-008/5 (Fibonacci Numbers) is due.ipynb",
      "provenance": [],
      "authorship_tag": "ABX9TyNpTes2XYC6ZRUZgCIxbEb2",
      "include_colab_link": true
    },
    "kernelspec": {
      "name": "python3",
      "display_name": "Python 3"
    },
    "language_info": {
      "name": "python"
    }
  },
  "cells": [
    {
      "cell_type": "markdown",
      "metadata": {
        "id": "view-in-github",
        "colab_type": "text"
      },
      "source": [
        "<a href=\"https://colab.research.google.com/github/serhat-ozcakir/pyhton/blob/main/Assignment_008_5_(Fibonacci_Numbers)_is_due.ipynb\" target=\"_parent\"><img src=\"https://colab.research.google.com/assets/colab-badge.svg\" alt=\"Open In Colab\"/></a>"
      ]
    },
    {
      "cell_type": "code",
      "metadata": {
        "id": "HGkR3_Aq4nSt"
      },
      "source": [
        "sayı = 55\n",
        "x = [1]\n",
        "a,b = 1,1\n",
        "while a < 55:\n",
        "  a, b = b, a+b\n",
        "  x.append(a)\n",
        "print(x)"
      ],
      "execution_count": null,
      "outputs": []
    }
  ]
}