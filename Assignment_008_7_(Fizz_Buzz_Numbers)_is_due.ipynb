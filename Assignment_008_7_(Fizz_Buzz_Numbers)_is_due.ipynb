{
  "nbformat": 4,
  "nbformat_minor": 0,
  "metadata": {
    "colab": {
      "name": " Assignment-008/7 (Fizz Buzz Numbers) is due.ipynb",
      "provenance": [],
      "authorship_tag": "ABX9TyMZlz1bO8qpo+KggWao/fJQ",
      "include_colab_link": true
    },
    "kernelspec": {
      "name": "python3",
      "display_name": "Python 3"
    },
    "language_info": {
      "name": "python"
    }
  },
  "cells": [
    {
      "cell_type": "markdown",
      "metadata": {
        "id": "view-in-github",
        "colab_type": "text"
      },
      "source": [
        "<a href=\"https://colab.research.google.com/github/serhat-ozcakir/pyhton/blob/main/Assignment_008_7_(Fizz_Buzz_Numbers)_is_due.ipynb\" target=\"_parent\"><img src=\"https://colab.research.google.com/assets/colab-badge.svg\" alt=\"Open In Colab\"/></a>"
      ]
    },
    {
      "cell_type": "code",
      "metadata": {
        "id": "iksQu1ZKELEm"
      },
      "source": [
        "fizz = []\n",
        "buzz = []\n",
        "fizzbuzz = [] \n",
        "unchanged = []\n",
        "\n",
        "for i in range(1,101):\n",
        "  if i % 3 == 0:\n",
        "    fizz.append(i)\n",
        "  if  i % 5 == 0:\n",
        "    buzz.append(i)\n",
        "  if i % 15 == 0:\n",
        "    fizzbuzz.append(i)\n",
        "  if (i % 3 != 0) and (i % 5 != 0) :\n",
        "    unchanged.append(i)\n",
        "print(fizz, buzz, fizzbuzz, unchanged, sep = '\\n')"
      ],
      "execution_count": null,
      "outputs": []
    }
  ]
}