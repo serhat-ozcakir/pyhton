{
  "nbformat": 4,
  "nbformat_minor": 0,
  "metadata": {
    "colab": {
      "name": " Assignment-008/2 (Covid-19 Risk) is due.ipynb",
      "provenance": [],
      "authorship_tag": "ABX9TyPABJhQ5SLjJr8CFX3yIsnU",
      "include_colab_link": true
    },
    "kernelspec": {
      "name": "python3",
      "display_name": "Python 3"
    },
    "language_info": {
      "name": "python"
    }
  },
  "cells": [
    {
      "cell_type": "markdown",
      "metadata": {
        "id": "view-in-github",
        "colab_type": "text"
      },
      "source": [
        "<a href=\"https://colab.research.google.com/github/serhat-ozcakir/pyhton/blob/main/Assignment_008_2_(Covid_19_Risk)_is_due.ipynb\" target=\"_parent\"><img src=\"https://colab.research.google.com/assets/colab-badge.svg\" alt=\"Open In Colab\"/></a>"
      ]
    },
    {
      "cell_type": "code",
      "metadata": {
        "id": "VdNqRXSeiQl3"
      },
      "source": [
        "age = input(\"Are you a cigarette addict older than 75 years old? : \") # the answer is only \"yes\" or \"no\"\n",
        "chronic = input(\"Do you have a severe chronic disease? : \")  # the answer is only \"yes\" or \"no\"\n",
        "immune = input(\"Is your immune system too weak?\")  # the answer is only \"yes\" or \"no\"\n",
        "risk = (chronic == \"Yes\" or immune == \"Yes\" or age == \"Yes\")\n",
        "if risk == True:\n",
        "  print(\"You are in risky group\")\n",
        "else :\n",
        "  print(\"You are not in risky group\")"
      ],
      "execution_count": null,
      "outputs": []
    }
  ]
}