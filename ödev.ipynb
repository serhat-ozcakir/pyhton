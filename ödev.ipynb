{
  "nbformat": 4,
  "nbformat_minor": 0,
  "metadata": {
    "colab": {
      "name": "ödev.ipynb",
      "provenance": [],
      "collapsed_sections": [],
      "authorship_tag": "ABX9TyOA8tmNqDt/D1NPxRx6Sjzy",
      "include_colab_link": true
    },
    "kernelspec": {
      "name": "python3",
      "display_name": "Python 3"
    },
    "language_info": {
      "name": "python"
    }
  },
  "cells": [
    {
      "cell_type": "markdown",
      "metadata": {
        "id": "view-in-github",
        "colab_type": "text"
      },
      "source": [
        "<a href=\"https://colab.research.google.com/github/serhat-ozcakir/pyhton/blob/main/%C3%B6dev.ipynb\" target=\"_parent\"><img src=\"https://colab.research.google.com/assets/colab-badge.svg\" alt=\"Open In Colab\"/></a>"
      ]
    },
    {
      "cell_type": "code",
      "metadata": {
        "id": "L12WFaySv9_3",
        "colab": {
          "base_uri": "https://localhost:8080/"
        },
        "outputId": "14a141e3-2e98-497f-83be-d6f34387e51d"
      },
      "source": [
        "age = bool(True or False)  # Are you a cigarette addict older than 75 years old? it can be assigned only True/False\n",
        "chronic = bool(True or False)  # Do you have a severe chronic disease? it can be assigned only True/False\n",
        "immune =  bool(True or False)  # Is your immune system too weak? it can be assigned only True/False\n",
        "\n",
        "age = False\n",
        "chronic = False \n",
        "immune = False\n",
        "risk = chronic and immune or age\n",
        "print('The risk of Covid-19 death', risk)"
      ],
      "execution_count": null,
      "outputs": [
        {
          "output_type": "stream",
          "text": [
            "The risk of Covid-19 death False\n"
          ],
          "name": "stdout"
        }
      ]
    },
    {
      "cell_type": "code",
      "metadata": {
        "colab": {
          "base_uri": "https://localhost:8080/"
        },
        "id": "2SK7E21pxIrz",
        "outputId": "7c897e70-bad9-49d4-d4c4-3edcf167ecc9"
      },
      "source": [
        "rakamlar = [2,3,2,4,4,4,6,6,8,8,7,0,7,7,2,3,2,2,1,1,0]\n",
        "frequent = max(rakamlar, key = rakamlar.count)\n",
        "print(\"Bu liste içersinde en çok tekrar eden rakam : \", frequent)"
      ],
      "execution_count": null,
      "outputs": [
        {
          "output_type": "stream",
          "text": [
            "Bu liste içersinde en çok tekrar eden rakam :  2\n"
          ],
          "name": "stdout"
        }
      ]
    },
    {
      "cell_type": "code",
      "metadata": {
        "colab": {
          "base_uri": "https://localhost:8080/"
        },
        "id": "tKMvbI-NxTLr",
        "outputId": "dd6c121a-5d1e-4567-9e58-f74bdb00f26c"
      },
      "source": [
        "sales = {\n",
        "       \"cost_value\": 36.3,\n",
        "  \"sell_value\": 48.00,\n",
        "  \"inventory\": 1000\n",
        "}\n",
        "print(\"the profit will be : \", round((sales[\"sell_value\"]) * sales[\"inventory\"] - (sales[\"cost_value\"]) * sales[\"inventory\"]))"
      ],
      "execution_count": null,
      "outputs": [
        {
          "output_type": "stream",
          "text": [
            "the profit will be :  11700\n"
          ],
          "name": "stdout"
        }
      ]
    },
    {
      "cell_type": "code",
      "metadata": {
        "id": "4-cGGW-pxdVf",
        "colab": {
          "base_uri": "https://localhost:8080/"
        },
        "outputId": "92dabe18-9cef-434b-ec6e-9bcc131b16a3"
      },
      "source": [
        "payroll = \"${:.2f}, ${:.2f}, ${:.2f}\".format(3, 29.99, 4.1)\n",
        "print(payroll)"
      ],
      "execution_count": null,
      "outputs": [
        {
          "output_type": "stream",
          "text": [
            "$3.00, $29.99, $4.10\n"
          ],
          "name": "stdout"
        }
      ]
    },
    {
      "cell_type": "code",
      "metadata": {
        "id": "ywjvlsZGE5eU"
      },
      "source": [
        "kelime = set(str(input(\"bir kelime yazınız : \")))  # you can write something as you want\n",
        "sol_tus = set(\"qwertasdfgzxcvb\")  # I wrote these letters left side of keybooard \n",
        "sağ_tus = set(\"yuıopğühjklşinmöç\")  # # I wrote these letters right side of keybooard \n",
        "print(bool(kelime.intersection(sol_tus)) and bool(kelime.intersection(sağ_tus)))  # if the result True, it is okey or not otherwise"
      ],
      "execution_count": null,
      "outputs": []
    },
    {
      "cell_type": "code",
      "metadata": {
        "id": "hyT994J3dt13"
      },
      "source": [
        "name = input(\"write a name: \")\n",
        "my_name = \"serhat\"\n",
        "\n",
        "if name == my_name:\n",
        "    print(\"Hello, serhat! The password is : 5435\")\n",
        "else:\n",
        "    print(\"Hello, ahmet! See you later.\")\n",
        "\n"
      ],
      "execution_count": null,
      "outputs": []
    },
    {
      "cell_type": "code",
      "metadata": {
        "id": "2_9Z3llme0o3"
      },
      "source": [
        "my_name = \"serhat\"\n",
        "\n",
        "while True :\n",
        "    name = input(\"write a name: \")\n",
        "    if name == my_name:\n",
        "       print(\"Hello, serhat! The password is : 5435\") \n",
        "       break \n",
        "    else:\n",
        "       print(\"Hello, I am sorry! See you later.\")\n",
        "       "
      ],
      "execution_count": null,
      "outputs": []
    },
    {
      "cell_type": "code",
      "metadata": {
        "id": "lzJBiInA0VtE"
      },
      "source": [
        "age = input(\"Are you a cigarette addict older than 75 years old? : \") # the answer is only \"yes\" or \"no\"\n",
        "chronic = input(\"Do you have a severe chronic disease? : \")  # the answer is only \"yes\" or \"no\"\n",
        "immune = input(\"Is your immune system too weak?\")  # the answer is only \"yes\" or \"no\"\n",
        "risk = (chronic == \"Yes\" or immune == \"Yes\" or age == \"Yes\")\n",
        "if risk == True:\n",
        "  print(\"You are in risky group\")\n",
        "else :\n",
        "  print(\"You are not in risky group\")"
      ],
      "execution_count": null,
      "outputs": []
    }
  ]
}