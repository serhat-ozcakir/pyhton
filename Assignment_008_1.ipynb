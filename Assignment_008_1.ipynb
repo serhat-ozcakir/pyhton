{
  "nbformat": 4,
  "nbformat_minor": 0,
  "metadata": {
    "colab": {
      "name": "Assignment-008/1.ipynb",
      "provenance": [],
      "authorship_tag": "ABX9TyMDzouHNO/VVlMRF+gq+syv",
      "include_colab_link": true
    },
    "kernelspec": {
      "name": "python3",
      "display_name": "Python 3"
    },
    "language_info": {
      "name": "python"
    }
  },
  "cells": [
    {
      "cell_type": "markdown",
      "metadata": {
        "id": "view-in-github",
        "colab_type": "text"
      },
      "source": [
        "<a href=\"https://colab.research.google.com/github/serhat-ozcakir/pyhton/blob/main/Assignment_008_1.ipynb\" target=\"_parent\"><img src=\"https://colab.research.google.com/assets/colab-badge.svg\" alt=\"Open In Colab\"/></a>"
      ]
    },
    {
      "cell_type": "code",
      "metadata": {
        "id": "YMkQckJikOmg"
      },
      "source": [
        "my_name = \"serhat\"\n",
        "\n",
        "while True :\n",
        "    name = input(\"write a name: \")\n",
        "    if name == my_name:\n",
        "       print(\"Hello, serhat! The password is : 5435\") \n",
        "       break \n",
        "    else:\n",
        "       print(\"Hello, I am sorry! See you later.\")"
      ],
      "execution_count": null,
      "outputs": []
    }
  ]
}