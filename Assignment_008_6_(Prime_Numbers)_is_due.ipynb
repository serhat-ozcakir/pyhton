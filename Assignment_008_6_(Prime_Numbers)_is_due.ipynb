{
  "nbformat": 4,
  "nbformat_minor": 0,
  "metadata": {
    "colab": {
      "name": "Assignment-008/6 (Prime Numbers) is due.ipynb",
      "provenance": [],
      "authorship_tag": "ABX9TyOuqxS5OdB4iBSY6/k3fQqA",
      "include_colab_link": true
    },
    "kernelspec": {
      "name": "python3",
      "display_name": "Python 3"
    },
    "language_info": {
      "name": "python"
    }
  },
  "cells": [
    {
      "cell_type": "markdown",
      "metadata": {
        "id": "view-in-github",
        "colab_type": "text"
      },
      "source": [
        "<a href=\"https://colab.research.google.com/github/serhat-ozcakir/pyhton/blob/main/Assignment_008_6_(Prime_Numbers)_is_due.ipynb\" target=\"_parent\"><img src=\"https://colab.research.google.com/assets/colab-badge.svg\" alt=\"Open In Colab\"/></a>"
      ]
    },
    {
      "cell_type": "code",
      "metadata": {
        "id": "dNLoedzyV_Uv"
      },
      "source": [
        "n = int(input('please enter your prime number limit'))\n",
        "prime_number = []\n",
        "\n",
        "for i  in range(2, n):\n",
        "    x = []\n",
        "    for j in range (2, i):\n",
        "        x.append(i % j)\n",
        "    if all(x) == True:\n",
        "        prime_number.append(i)\n",
        "print(prime_number)"
      ],
      "execution_count": null,
      "outputs": []
    }
  ]
}