{
  "nbformat": 4,
  "nbformat_minor": 0,
  "metadata": {
    "colab": {
      "name": " Assignment-008/4 (Is it a Prime Number?) is due.ipynb",
      "provenance": [],
      "authorship_tag": "ABX9TyOb33tfsYlqZyn1rS3Fs0sB",
      "include_colab_link": true
    },
    "kernelspec": {
      "name": "python3",
      "display_name": "Python 3"
    },
    "language_info": {
      "name": "python"
    }
  },
  "cells": [
    {
      "cell_type": "markdown",
      "metadata": {
        "id": "view-in-github",
        "colab_type": "text"
      },
      "source": [
        "<a href=\"https://colab.research.google.com/github/serhat-ozcakir/pyhton/blob/main/Assignment_008_4_(Is_it_a_Prime_Number%3F)_is_due.ipynb\" target=\"_parent\"><img src=\"https://colab.research.google.com/assets/colab-badge.svg\" alt=\"Open In Colab\"/></a>"
      ]
    },
    {
      "cell_type": "code",
      "metadata": {
        "id": "13j46BXMgubi"
      },
      "source": [
        "sayı = int(input(\"değer : \"))\n",
        "\n",
        "if sayı > 1 :\n",
        "  for i in range(2, sayı):\n",
        "    if sayı % i == 0:\n",
        "      print(\"it is not prime number\")\n",
        "      break\n",
        "    else:\n",
        "      print(\"it is prime number\")\n",
        "      break\n",
        "     \n",
        "else:\n",
        "  print(\"it is not prime number\")"
      ],
      "execution_count": null,
      "outputs": []
    }
  ]
}